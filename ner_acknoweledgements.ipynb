{
  "cells": [
    {
      "cell_type": "markdown",
      "metadata": {
        "id": "view-in-github",
        "colab_type": "text"
      },
      "source": [
        "<a href=\"https://colab.research.google.com/github/kalawinka/ner_acknowledgements/blob/main/ner_acknoweledgements.ipynb\" target=\"_parent\"><img src=\"https://colab.research.google.com/assets/colab-badge.svg\" alt=\"Open In Colab\"/></a>"
      ]
    },
    {
      "cell_type": "markdown",
      "metadata": {
        "id": "m7BKeq5-fE5D"
      },
      "source": [
        "# Extracting Named Entities from scientific acknowledgements using the Flair NLP Framework\n",
        "\n",
        "## Learning objectives\n",
        "By the end of this tutorial, you will be able to\n",
        "- run NER task over a single acknowledgement text or a whole corpus using the Flair NLP framework\n",
        "- extract different levels of information about a named entity\n",
        "\n",
        "## Description\n",
        "This tutorial provides detailed information about extracting named entities from scientific acknowledgements (written in English) using the Flair NLP framework and pretrained NER model.\n",
        "\n",
        "The model used in this tutorial was pretrained on the corpus of over 600 acknowledgements texts and is able to predict 6 tags.\n",
        "\n",
        "|label|description|precision|recall|f1-score|support|\n",
        "|:----|:----|:----|:----|:----|:----|\n",
        "|GRNB|grant number|0,93|0,98|0,96|160|\n",
        "|IND|person|0,98|0,98|0,98|295|\n",
        "|FUND|funding organization|0,70|0,83|0,76|157|\n",
        "|UNI|university|0,77|0,74|0,75|99|\n",
        "|MISC|miscellaneous|0,65|0,65|0,65|82|\n",
        "|COR|corporation|0,75|0,50|0,60|12|\n",
        "\n",
        "F1-Score: 0.79\n",
        "\n",
        "To learn more about the model see model card: https://huggingface.co/kalawinka/flair-ner-acknowledgments\n",
        "\n",
        "For detailed information about model pretraining and training parameters see:\n",
        "Smirnova, N., Mayr, P. Embedding models for supervised automatic extraction and classification of named entities in scientific acknowledgements. Scientometrics (2023). https://doi.org/10.1007/s11192-023-04806-2\n",
        "\n",
        "\n",
        "## Target Audience (Difficulty level)\n",
        "- This tutorial is aimed at beginners with some knowledge in Python\n",
        "\n",
        "## Prerequisites\n",
        "- Prior knowledge of Python programming is required for this tutorial"
      ]
    },
    {
      "cell_type": "markdown",
      "metadata": {
        "id": "UwllxFYRfE5E"
      },
      "source": [
        "## Environment Setup\n",
        "\n",
        " - In order to run this tutorial, you need at least Python >= 3.11.4  \n",
        " - The following dependencies should also install the required packages"
      ]
    },
    {
      "cell_type": "code",
      "execution_count": null,
      "metadata": {
        "id": "i5tMJCxJfE5E"
      },
      "outputs": [],
      "source": [
        "# Install packages for Jupiter Notebook environment\n",
        "!pip3 install flair\n",
        "!pip3 install pandas\n"
      ]
    },
    {
      "cell_type": "code",
      "execution_count": null,
      "metadata": {
        "id": "ufC3pHhPfE5E"
      },
      "outputs": [],
      "source": [
        "#import libraries\n",
        "from flair.data import Sentence\n",
        "from flair.nn import Classifier"
      ]
    },
    {
      "cell_type": "code",
      "execution_count": null,
      "metadata": {
        "id": "HI8eMsRxfE5F"
      },
      "outputs": [],
      "source": [
        "# load the trained model\n",
        "model = Classifier.load(\"kalawinka/flair-ner-acknowledgments\")"
      ]
    },
    {
      "cell_type": "markdown",
      "metadata": {
        "id": "1k_n6r7nfE5F"
      },
      "source": [
        "# Try model with one sentence"
      ]
    },
    {
      "cell_type": "code",
      "execution_count": null,
      "metadata": {
        "id": "cEnUBAJafE5F"
      },
      "outputs": [],
      "source": [
        "# create example sentence\n",
        "sentence = Sentence(\"This work was supported by State Key Lab of Ocean Engineering Shanghai Jiao Tong University and financially supported by China National Scientific and Technology Major Project (Grant No. 2016ZX05028-006-009)\")"
      ]
    },
    {
      "cell_type": "code",
      "execution_count": null,
      "metadata": {
        "id": "poEbct4hfE5F"
      },
      "outputs": [],
      "source": [
        "# run NER over sentence\n",
        "model.predict(sentence)\n",
        "# print the sentence with all annotations\n",
        "print(sentence)"
      ]
    },
    {
      "cell_type": "code",
      "execution_count": null,
      "metadata": {
        "id": "EhXXHC1AfE5F"
      },
      "outputs": [],
      "source": [
        "#print output as spans\n",
        "for entity in sentence.get_spans('ner'):\n",
        "    print(entity)"
      ]
    },
    {
      "cell_type": "code",
      "execution_count": null,
      "metadata": {
        "id": "QYS8GKXgfE5F"
      },
      "outputs": [],
      "source": [
        "# access single information about entity\n",
        "for entity in sentence.get_spans('ner'):\n",
        "    # access entity text\n",
        "    print(entity.text)\n",
        "    # access entity label\n",
        "    print(entity.get_label(\"ner\").value)\n",
        "    # access confidence sore\n",
        "    print(entity.get_label(\"ner\").score)\n",
        "    # access entity start position\n",
        "    print(entity.start_position)\n",
        "    # access entity end position\n",
        "    print(entity.end_position)"
      ]
    },
    {
      "cell_type": "markdown",
      "metadata": {
        "id": "B_yvEf-KfE5F"
      },
      "source": [
        "# Apply model to the corpus"
      ]
    },
    {
      "cell_type": "code",
      "execution_count": null,
      "metadata": {
        "id": "p9Aw-wIAfE5F"
      },
      "outputs": [],
      "source": [
        "# import pandas library\n",
        "import pandas as pd"
      ]
    },
    {
      "cell_type": "code",
      "execution_count": null,
      "metadata": {
        "id": "XmxKyHGAfE5F"
      },
      "outputs": [],
      "source": [
        "\n",
        "#create example corpus\n",
        "data_dict = {\n",
        "    'id': ['1', '2', '3'],\n",
        "    'text' : [\n",
        "        'This work is funded by the German Federal Ministry of Education and Research (BMBF) project Open Access Effects – The Influence of Structural and Author-specific Factors on the Impact of OA (OASE), grant numbers 16PU17005A and 16PU17005B.',\n",
        "        'The original work was funded by the German Center for Higher EducationResearch and Science Studies (DZHW) via the project ”Mining Acknowl-edgement Texts in Web of Science (MinAck)”17. Access to the WoS datawas granted via the Competence Centre for Bibliometrics18. Data accesswas funded by BMBF (Federal Ministry of Education and Research, Germany) under grant number 01PQ17001. Nina Smirnova received funding fromthe German Research Foundation (DFG) via the project ”POLLUX”19. Thepresent paper is an extended version of the paper ”Evaluation of EmbeddingModels for Automatic Extraction and Classification of Acknowledged Entities in Scientific Documents” (Smirnova and Mayr, 2022) presented at the 3rd Workshop on Extraction and Evaluation of Knowledge Entities from ScientificDocuments (EEKE2022).',\n",
        "        'This work was funded by German Centre for Higher Education Research and Science Studies (DZHW) via the project ”Mining Acknowledgement Texts in Web of Science (MinAck)”21. Nina Smirnova acknowledges support by Deutsche Forschungsgemeinschaft (DFG) under grant number MA 3964/7-2, the Fachinformationsdienst Politikwissenschaft – Pollux. Access to the WoS data was granted via the Competence Centre for Bibliometrics22. Data access was funded by BMBF (Federal Ministry of Education and Research, Germany) under grant number 01PQ17001.'\n",
        "            ]\n",
        "}\n",
        "#convert dictionary to pandas dataframe\n",
        "corpus = pd.DataFrame.from_dict(data_dict)\n",
        "corpus.head()"
      ]
    },
    {
      "cell_type": "code",
      "execution_count": null,
      "metadata": {
        "id": "d4Bo8cJ-fE5G"
      },
      "outputs": [],
      "source": [
        "# function to apply NER model to the dataframe and accsess single information about entity\n",
        "# input parameters: acknoweledgemnt text and NER model\n",
        "def get_entity_info(text, model):\n",
        "  sentence = Sentence(text)\n",
        "  model.predict(sentence)\n",
        "  # append dictionaries with entity information to list\n",
        "  result = list()\n",
        "  for entity in sentence.get_spans('ner'):\n",
        "        # save extracted entities, labels and confidence score to dictionary\n",
        "        dict = {'entity' : entity.text,\n",
        "                'label' : entity.get_label(\"ner\").value,\n",
        "                'confidence': entity.get_label(\"ner\").score,\n",
        "                'start_pos' : entity.start_position,\n",
        "                'end_pos' : entity.end_position}\n",
        "        result.append(dict)\n",
        "  return result\n",
        ""
      ]
    },
    {
      "cell_type": "code",
      "execution_count": null,
      "metadata": {
        "id": "bXY48ujJfE5G"
      },
      "outputs": [],
      "source": [
        "#apply NER model to the whole corpus and save results as a dictionary in the datafarme column\n",
        "corpus['ner_results'] = corpus.apply(\n",
        "    lambda row: get_entity_info(row['text'], model),\n",
        "    axis=1\n",
        ")\n",
        "corpus.head()"
      ]
    },
    {
      "cell_type": "markdown",
      "metadata": {
        "id": "b_fzleYwfE5G"
      },
      "source": [
        "## References\n",
        "- Akbik, A., Blythe, D., & Vollgraf, R. (2018). Contextual String Embeddings for Sequence Labeling. COLING 2018, 27th International Conference on Computational Linguistics, 1638–1649.\n",
        "- Akbik, A., Bergmann, T., Blythe, D., Rasul, K., Schweter, S., & Vollgraf, R. (2019). FLAIR: An easy-to-use framework for state-of-the-art NLP. NAACL 2019, 2019 Annual Conference of the North American Chapter of the Association for Computational Linguistics (Demonstrations), 54–59.\n",
        "- Smirnova, N., Mayr, P. Embedding models for supervised automatic extraction and classification of named entities in scientific acknowledgements. Scientometrics (2023). https://doi.org/10.1007/s11192-023-04806-2\n",
        "- https://huggingface.co/kalawinka/flair-ner-acknowledgments\n",
        "- https://flairnlp.github.io/\n",
        "\n",
        "## Contact details\n",
        "Nina Smirnova \\\n",
        "Email: nina.smirnova@gesis.org \\\n",
        "Huggingface: https://huggingface.co/kalawinka \\\n",
        "Research intersets: NLP, Machine Learning, Computational Linguistics, LLMs, Text Minings"
      ]
    }
  ],
  "metadata": {
    "kernelspec": {
      "display_name": "Python 3",
      "language": "python",
      "name": "python3"
    },
    "language_info": {
      "codemirror_mode": {
        "name": "ipython",
        "version": 3
      },
      "file_extension": ".py",
      "mimetype": "text/x-python",
      "name": "python",
      "nbconvert_exporter": "python",
      "pygments_lexer": "ipython3",
      "version": "3.11.4"
    },
    "colab": {
      "provenance": [],
      "include_colab_link": true
    }
  },
  "nbformat": 4,
  "nbformat_minor": 0
}